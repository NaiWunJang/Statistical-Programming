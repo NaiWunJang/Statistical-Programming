{
 "cells": [
  {
   "cell_type": "markdown",
   "metadata": {},
   "source": [
    "## 簡單線性迴歸(Simple Linear Regression)\n",
    "\n",
    "<img src=\"OLS.png\" width=\"450\" />"
   ]
  },
  {
   "cell_type": "markdown",
   "metadata": {},
   "source": [
    "## 方法1，單純用 Python"
   ]
  },
  {
   "cell_type": "code",
   "execution_count": 2,
   "metadata": {},
   "outputs": [
    {
     "name": "stdout",
     "output_type": "stream",
     "text": [
      "y=-0.3029 x + 0.7571\n",
      "\n"
     ]
    }
   ],
   "source": [
    "# 方法1，單純用 Python\n",
    "x = [0.0, 1.0, 2.0, 3.0,  4.0,  5.0]\n",
    "y = [0.0, 0.8, 0.9, 0.1, -0.8, -1.0]\n",
    "\n",
    "# x 平均數\n",
    "x_mean = 0\n",
    "for i in x:\n",
    "    x_mean += i\n",
    "x_mean = x_mean / len(x)\n",
    "\n",
    "# y 平均數\n",
    "y_mean = 0\n",
    "for i in y:\n",
    "    y_mean += i\n",
    "y_mean = y_mean / len(y)\n",
    "\n",
    "# x、y 乘積和\n",
    "xy_sum = 0\n",
    "for index, i in enumerate(x):\n",
    "    xy_sum += i * y[index]\n",
    "\n",
    "# x 平方和\n",
    "x2_sum = 0\n",
    "for i in x:\n",
    "    x2_sum += i * i\n",
    "\n",
    "# 斜率的分子\n",
    "b1_numerator = (xy_sum - len(x) * x_mean * y_mean)\n",
    "# 斜率的分母\n",
    "b1_denominator = x2_sum - len(x) * x_mean * x_mean\n",
    "# b1:斜率\n",
    "b1 = b1_numerator / b1_denominator\n",
    "\n",
    "# b0:截距\n",
    "b0 = y_mean - b1 * x_mean\n",
    "\n",
    "print('y={:.4f} x + {:.4f}\\n'.format(b1, b0))\n",
    "\n"
   ]
  },
  {
   "cell_type": "markdown",
   "metadata": {},
   "source": [
    "## 方法2，使用 NumPy 函數"
   ]
  },
  {
   "cell_type": "code",
   "execution_count": 3,
   "metadata": {},
   "outputs": [
    {
     "name": "stdout",
     "output_type": "stream",
     "text": [
      "y=-0.3029 x + 0.7571\n"
     ]
    }
   ],
   "source": [
    "# 方法2，使用 NumPy 函數\n",
    "import numpy as np\n",
    "\n",
    "x = np.array([0.0, 1.0, 2.0, 3.0,  4.0,  5.0])\n",
    "y = np.array([0.0, 0.8, 0.9, 0.1, -0.8, -1.0])\n",
    "\n",
    "# x 平均數\n",
    "x_mean = np.mean(x)\n",
    "# y 平均數\n",
    "y_mean = np.mean(y)\n",
    "# x、y 乘積和\n",
    "xy_sum = np.sum(x * y)\n",
    "# x 平方和\n",
    "x2_sum = np.sum(x * x)\n",
    "# 斜率的分子\n",
    "b1_numerator = (xy_sum - len(x) * x_mean * y_mean)\n",
    "# 斜率的分母\n",
    "b1_denominator = x2_sum - len(x) * x_mean * x_mean\n",
    "# b1:斜率\n",
    "b1 = b1_numerator / b1_denominator\n",
    "\n",
    "# b0:截距\n",
    "b0 = y_mean - b1 * x_mean\n",
    "\n",
    "print('y={:.4f} x + {:.4f}'.format(b1, b0))"
   ]
  },
  {
   "cell_type": "markdown",
   "metadata": {},
   "source": [
    "## 方法3，使用 polyfit"
   ]
  },
  {
   "cell_type": "code",
   "execution_count": 4,
   "metadata": {},
   "outputs": [
    {
     "name": "stdout",
     "output_type": "stream",
     "text": [
      " \n",
      "-0.3029 x + 0.7571\n"
     ]
    }
   ],
   "source": [
    "# 方法3，使用 polyfit\n",
    "cls = np.polyfit(x, y, deg=1)\n",
    "p = np.poly1d(cls)\n",
    "print(p)\n"
   ]
  },
  {
   "cell_type": "markdown",
   "metadata": {},
   "source": [
    "## 畫圖"
   ]
  },
  {
   "cell_type": "code",
   "execution_count": 5,
   "metadata": {},
   "outputs": [
    {
     "data": {
      "image/png": "[encoded data removed]",
      "text/plain": [
       "<Figure size 432x288 with 1 Axes>"
      ]
     },
     "metadata": {},
     "output_type": "display_data"
    }
   ],
   "source": [
    "%matplotlib inline\n",
    "# 畫圖\n",
    "import matplotlib.pyplot as plt\n",
    "plt.plot(x, b1 * np.array(x) + b0, color='red')\n",
    "plt.scatter(x, y)\n",
    "plt.show()"
   ]
  }
 ],
 "metadata": {
  "kernelspec": {
   "display_name": "Python 3",
   "language": "python",
   "name": "python3"
  },
  "language_info": {
   "codemirror_mode": {
    "name": "ipython",
    "version": 3
   },
   "file_extension": ".py",
   "mimetype": "text/x-python",
   "name": "python",
   "nbconvert_exporter": "python",
   "pygments_lexer": "ipython3",
   "version": "3.6.5"
  }
 },
 "nbformat": 4,
 "nbformat_minor": 2
}
